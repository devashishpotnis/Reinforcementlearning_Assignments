{
 "cells": [
  {
   "cell_type": "code",
   "execution_count": null,
   "id": "64c781ca",
   "metadata": {},
   "outputs": [],
   "source": [
    "# 6. Write a program in python to demonstrates SARSA, an on-policy TD learning algorithm\n",
    "\n",
    "# Name: Devashish Mayur Potnis\n",
    "# Class: BE-AIML"
   ]
  },
  {
   "cell_type": "code",
   "execution_count": 2,
   "id": "9a735c31",
   "metadata": {},
   "outputs": [],
   "source": [
    "import numpy as np\n",
    "# Define the environment\n",
    "class Environment:\n",
    "    def __init__(self):\n",
    "        self.num_states = 6\n",
    "        self.num_actions = 2\n",
    "        self.state = 2  # Initial state\n",
    "    def reset(self):\n",
    "        self.state = 2  # Reset to initial state\n",
    "        return self.state\n",
    "    def step(self, action):\n",
    "        # Transition function\n",
    "        if action == 0:  # Left\n",
    "            self.state -= 1\n",
    "        else:  # Right\n",
    "            self.state += 1\n",
    "        # Reward function\n",
    "        if self.state == 0:\n",
    "            reward = -1\n",
    "            done = True\n",
    "        elif self.state == 5:\n",
    "            reward = 1\n",
    "            done = True\n",
    "        else:\n",
    "            reward = 0\n",
    "            done = False\n",
    "        return self.state, reward, done\n"
   ]
  },
  {
   "cell_type": "code",
   "execution_count": 3,
   "id": "90dc017e",
   "metadata": {},
   "outputs": [],
   "source": [
    "# SARSA agent\n",
    "class SarsaAgent:\n",
    "    def __init__(self, num_states, num_actions, epsilon=0.1, alpha=0.1, gamma=0.9):\n",
    "        self.num_states = num_states\n",
    "        self.num_actions = num_actions\n",
    "        self.epsilon = epsilon\n",
    "        self.alpha = alpha\n",
    "        self.gamma = gamma\n",
    "        self.Q = np.zeros((num_states, num_actions))\n",
    "    def choose_action(self, state):\n",
    "        # Epsilon-greedy policy\n",
    "        if np.random.uniform(0, 1) < self.epsilon:\n",
    "            action = np.random.choice(self.num_actions)\n",
    "        else:\n",
    "            action = np.argmax(self.Q[state])\n",
    "        return action\n",
    "    def update_Q(self, state, action, reward, next_state, next_action):\n",
    "        # SARSA update rule\n",
    "        target = reward + self.gamma * self.Q[next_state, next_action]\n",
    "        self.Q[state, action] += self.alpha * (target - self.Q[state, action])\n"
   ]
  },
  {
   "cell_type": "code",
   "execution_count": 4,
   "id": "5ff7cc5a",
   "metadata": {},
   "outputs": [],
   "source": [
    "# Main loop\n",
    "def main():\n",
    "    env = Environment()\n",
    "    agent = SarsaAgent(env.num_states, env.num_actions)\n",
    "    num_episodes = 1000\n",
    "    for episode in range(num_episodes):\n",
    "        state = env.reset()\n",
    "        action = agent.choose_action(state)\n",
    "        while True:\n",
    "            next_state, reward, done = env.step(action)\n",
    "            next_action = agent.choose_action(next_state)\n",
    "            agent.update_Q(state, action, reward, next_state, next_action)\n",
    "            if done:\n",
    "                break\n",
    "            state = next_state\n",
    "            action = next_action\n",
    "    # Print the learned Q-values\n",
    "    print(\"Learned Q-values:\")\n",
    "    print(agent.Q)"
   ]
  },
  {
   "cell_type": "code",
   "execution_count": 5,
   "id": "0a4bc5f8",
   "metadata": {},
   "outputs": [
    {
     "name": "stdout",
     "output_type": "stream",
     "text": [
      "Learned Q-values:\n",
      "[[ 0.          0.        ]\n",
      " [-0.468559    0.70626821]\n",
      " [ 0.59160097  0.80996209]\n",
      " [ 0.69849204  0.89999958]\n",
      " [ 0.74994514  1.        ]\n",
      " [ 0.          0.        ]]\n"
     ]
    }
   ],
   "source": [
    "if __name__ == \"__main__\":\n",
    "    main()"
   ]
  }
 ],
 "metadata": {
  "kernelspec": {
   "display_name": "Python 3 (ipykernel)",
   "language": "python",
   "name": "python3"
  },
  "language_info": {
   "codemirror_mode": {
    "name": "ipython",
    "version": 3
   },
   "file_extension": ".py",
   "mimetype": "text/x-python",
   "name": "python",
   "nbconvert_exporter": "python",
   "pygments_lexer": "ipython3",
   "version": "3.8.10"
  }
 },
 "nbformat": 4,
 "nbformat_minor": 5
}
