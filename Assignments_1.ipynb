{
 "cells": [
  {
   "cell_type": "code",
   "execution_count": null,
   "id": "398c7894",
   "metadata": {
    "scrolled": false
   },
   "outputs": [],
   "source": [
    "# 1. Write a program in python to demonstrate evaluative feedback by running episodes in the CartPole\n",
    "# environment and printing the total reward accumulated in each episode.\n",
    "\n",
    "# Name: Devashish Mayur Potnis\n",
    "# Class: BE-AIML"
   ]
  },
  {
   "cell_type": "code",
   "execution_count": 2,
   "id": "f4789d84",
   "metadata": {},
   "outputs": [
    {
     "name": "stdout",
     "output_type": "stream",
     "text": [
      "Episode 1: Total reward = 14.0\n",
      "Episode 2: Total reward = 12.0\n",
      "Episode 3: Total reward = 39.0\n",
      "Episode 4: Total reward = 37.0\n",
      "Episode 5: Total reward = 88.0\n",
      "Episode 6: Total reward = 30.0\n",
      "Episode 7: Total reward = 18.0\n",
      "Episode 8: Total reward = 36.0\n",
      "Episode 9: Total reward = 20.0\n",
      "Episode 10: Total reward = 26.0\n"
     ]
    }
   ],
   "source": [
    "import gym\n",
    "\n",
    "# Create \n",
    "env = gym.make(\"CartPole-v1\")\n",
    "\n",
    "# Set episodes\n",
    "num_episodes = 10\n",
    "\n",
    "# Run \n",
    "for episode in range(num_episodes):\n",
    "    # Reset env\n",
    "    observation = env.reset()\n",
    "    total_reward = 0\n",
    "\n",
    "    # Run ep\n",
    "    done = False\n",
    "    while not done:\n",
    "        # 0 or 1\n",
    "        action = env.action_space.sample()\n",
    "\n",
    "        # action\n",
    "        result = env.step(action)\n",
    "\n",
    "        observation, reward, done, _ = result[:4]  # Unpack only 4 values\n",
    "\n",
    "    \n",
    "        total_reward += reward\n",
    "\n",
    "    \n",
    "    print(f\"Episode {episode + 1}: Total reward = {total_reward}\")\n",
    "\n",
    "\n",
    "env.close()\n"
   ]
  }
 ],
 "metadata": {
  "kernelspec": {
   "display_name": "Python 3 (ipykernel)",
   "language": "python",
   "name": "python3"
  },
  "language_info": {
   "codemirror_mode": {
    "name": "ipython",
    "version": 3
   },
   "file_extension": ".py",
   "mimetype": "text/x-python",
   "name": "python",
   "nbconvert_exporter": "python",
   "pygments_lexer": "ipython3",
   "version": "3.8.10"
  }
 },
 "nbformat": 4,
 "nbformat_minor": 5
}
