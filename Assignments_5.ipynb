{
 "cells": [
  {
   "cell_type": "code",
   "execution_count": null,
   "id": "2d788166",
   "metadata": {},
   "outputs": [],
   "source": [
    "# 5. Write a program to estimate the value function for a given policy by iteratively simulating episodes and\n",
    "# updating the value function based on the observed returns.\n",
    "\n",
    "# Name: Devashish Mayur Potnis\n",
    "# Class: BE-AIML"
   ]
  },
  {
   "cell_type": "code",
   "execution_count": 2,
   "id": "e2ceb29a",
   "metadata": {},
   "outputs": [],
   "source": [
    "import numpy as np\n",
    "class SimpleEnvironment:\n",
    "\tdef __init__(self, num_states=5):\n",
    "\t\tself.num_states = num_states\n",
    "\tdef step(self, state):\n",
    "\t\treward = 0\n",
    "\t\tterminal = False\n",
    "\t\tif state < self.num_states - 1:\n",
    "\t\t\tnext_state = state + 1\n",
    "\t\t\treward = 1\n",
    "\t\telse:\n",
    "\t\t\tnext_state = state\n",
    "\t\t\tterminal = True\n",
    "\t\treturn next_state, reward, terminal\n",
    "\tdef reset(self):\n",
    "\t\treturn 0 # Start from state 0\n",
    "# Define a random policy for the sake of demonstration\n",
    "def random_policy(state, num_actions=5):\n",
    "\treturn np.random.choice(num_actions)\n",
    "# Monte Carlo Policy Evaluation function\n",
    "def monte_carlo_policy_evaluation(policy, env, num_episodes, gamma=1.0):\n",
    "\tvalue_table = np.zeros(env.num_states)\n",
    "\treturns = {state: [] for state in range(env.num_states)}\n",
    "\tfor _ in range(num_episodes):\n",
    "\t\tstate = env.reset()\n",
    "\t\tepisode = []\n",
    "\t\t# Generate an episode\n",
    "\t\twhile True:\n",
    "\t\t\taction = policy(state)\n",
    "\t\t\tnext_state, reward, terminal = env.step(action)\n",
    "\t\t\tepisode.append((state, reward))\n",
    "\t\t\tif terminal:\n",
    "\t\t\t\tbreak\n",
    "\t\t\tstate = next_state\n",
    "\t\t# Calculate the return and update the value table\n",
    "\t\tG = 0\n",
    "\t\tfor state, reward in reversed(episode):\n",
    "\t\t\tG = gamma * G + reward\n",
    "\t\t\treturns[state].append(G)\n",
    "\t\t\tvalue_table[state] = np.mean(returns[state])\n",
    "\treturn value_table"
   ]
  },
  {
   "cell_type": "code",
   "execution_count": 3,
   "id": "60b9bf20",
   "metadata": {},
   "outputs": [
    {
     "name": "stdout",
     "output_type": "stream",
     "text": [
      "The value table is:\n",
      "[4.257      4.23920863 4.14814815 4.30422535 4.14118793]\n"
     ]
    }
   ],
   "source": [
    "# Define the number of episodes for MC evaluation\n",
    "num_episodes = 1000\n",
    "# Create a simple environment instance\n",
    "env = SimpleEnvironment(num_states=5)\n",
    "# Evaluate the policy\n",
    "v = monte_carlo_policy_evaluation(random_policy, env, num_episodes)\n",
    "print(\"The value table is:\")\n",
    "print(v)"
   ]
  }
 ],
 "metadata": {
  "kernelspec": {
   "display_name": "Python 3 (ipykernel)",
   "language": "python",
   "name": "python3"
  },
  "language_info": {
   "codemirror_mode": {
    "name": "ipython",
    "version": 3
   },
   "file_extension": ".py",
   "mimetype": "text/x-python",
   "name": "python",
   "nbconvert_exporter": "python",
   "pygments_lexer": "ipython3",
   "version": "3.8.10"
  }
 },
 "nbformat": 4,
 "nbformat_minor": 5
}
